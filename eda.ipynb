{
 "cells": [
  {
   "cell_type": "code",
   "execution_count": 1,
   "metadata": {},
   "outputs": [
    {
     "name": "stderr",
     "output_type": "stream",
     "text": [
      "c:\\Users\\abart\\AppData\\Local\\Programs\\Python\\Python310\\lib\\site-packages\\scipy\\__init__.py:155: UserWarning: A NumPy version >=1.18.5 and <1.25.0 is required for this version of SciPy (detected version 1.26.4\n",
      "  warnings.warn(f\"A NumPy version >={np_minversion} and <{np_maxversion}\"\n"
     ]
    }
   ],
   "source": [
    "import pandas as pd\n",
    "import numpy as np\n",
    "from scipy import stats\n",
    "import matplotlib.pyplot as plt\n",
    "import seaborn as sns\n",
    "sns.set_style(\"darkgrid\")\n"
   ]
  },
  {
   "cell_type": "markdown",
   "metadata": {},
   "source": [
    "## Imports: World Data CSV"
   ]
  },
  {
   "cell_type": "code",
   "execution_count": 2,
   "metadata": {},
   "outputs": [],
   "source": [
    "world_data=pd.read_csv('WorldData.csv').drop(['Unnamed: 0'],axis=1)"
   ]
  },
  {
   "cell_type": "code",
   "execution_count": 3,
   "metadata": {},
   "outputs": [
    {
     "data": {
      "text/html": [
       "<div>\n",
       "<style scoped>\n",
       "    .dataframe tbody tr th:only-of-type {\n",
       "        vertical-align: middle;\n",
       "    }\n",
       "\n",
       "    .dataframe tbody tr th {\n",
       "        vertical-align: top;\n",
       "    }\n",
       "\n",
       "    .dataframe thead th {\n",
       "        text-align: right;\n",
       "    }\n",
       "</style>\n",
       "<table border=\"1\" class=\"dataframe\">\n",
       "  <thead>\n",
       "    <tr style=\"text-align: right;\">\n",
       "      <th></th>\n",
       "      <th>Country</th>\n",
       "      <th>Year</th>\n",
       "      <th>Gender</th>\n",
       "      <th>Life Expectancy</th>\n",
       "      <th>% Population</th>\n",
       "      <th>% 0-14</th>\n",
       "      <th>% 15-64</th>\n",
       "      <th>% 65+</th>\n",
       "      <th>Employment</th>\n",
       "      <th>Unemployment Rate</th>\n",
       "      <th>...</th>\n",
       "      <th>HIV</th>\n",
       "      <th>Water</th>\n",
       "      <th>Sanitation</th>\n",
       "      <th>TB</th>\n",
       "      <th>Malaria</th>\n",
       "      <th>Hospital Beds</th>\n",
       "      <th>Physicians</th>\n",
       "      <th>Nurses</th>\n",
       "      <th>GDP</th>\n",
       "      <th>GDP per Capita</th>\n",
       "    </tr>\n",
       "  </thead>\n",
       "  <tbody>\n",
       "    <tr>\n",
       "      <th>0</th>\n",
       "      <td>Afghanistan</td>\n",
       "      <td>1960</td>\n",
       "      <td>Female</td>\n",
       "      <td>33.314</td>\n",
       "      <td>NaN</td>\n",
       "      <td>NaN</td>\n",
       "      <td>NaN</td>\n",
       "      <td>NaN</td>\n",
       "      <td>NaN</td>\n",
       "      <td>NaN</td>\n",
       "      <td>...</td>\n",
       "      <td>NaN</td>\n",
       "      <td>NaN</td>\n",
       "      <td>NaN</td>\n",
       "      <td>NaN</td>\n",
       "      <td>NaN</td>\n",
       "      <td>NaN</td>\n",
       "      <td>NaN</td>\n",
       "      <td>NaN</td>\n",
       "      <td>NaN</td>\n",
       "      <td>NaN</td>\n",
       "    </tr>\n",
       "    <tr>\n",
       "      <th>1</th>\n",
       "      <td>Afghanistan</td>\n",
       "      <td>1961</td>\n",
       "      <td>Female</td>\n",
       "      <td>33.840</td>\n",
       "      <td>NaN</td>\n",
       "      <td>NaN</td>\n",
       "      <td>NaN</td>\n",
       "      <td>NaN</td>\n",
       "      <td>NaN</td>\n",
       "      <td>NaN</td>\n",
       "      <td>...</td>\n",
       "      <td>NaN</td>\n",
       "      <td>NaN</td>\n",
       "      <td>NaN</td>\n",
       "      <td>NaN</td>\n",
       "      <td>NaN</td>\n",
       "      <td>NaN</td>\n",
       "      <td>NaN</td>\n",
       "      <td>NaN</td>\n",
       "      <td>NaN</td>\n",
       "      <td>NaN</td>\n",
       "    </tr>\n",
       "    <tr>\n",
       "      <th>2</th>\n",
       "      <td>Afghanistan</td>\n",
       "      <td>1962</td>\n",
       "      <td>Female</td>\n",
       "      <td>34.359</td>\n",
       "      <td>NaN</td>\n",
       "      <td>NaN</td>\n",
       "      <td>NaN</td>\n",
       "      <td>NaN</td>\n",
       "      <td>NaN</td>\n",
       "      <td>NaN</td>\n",
       "      <td>...</td>\n",
       "      <td>NaN</td>\n",
       "      <td>NaN</td>\n",
       "      <td>NaN</td>\n",
       "      <td>NaN</td>\n",
       "      <td>NaN</td>\n",
       "      <td>NaN</td>\n",
       "      <td>NaN</td>\n",
       "      <td>NaN</td>\n",
       "      <td>NaN</td>\n",
       "      <td>NaN</td>\n",
       "    </tr>\n",
       "    <tr>\n",
       "      <th>3</th>\n",
       "      <td>Afghanistan</td>\n",
       "      <td>1963</td>\n",
       "      <td>Female</td>\n",
       "      <td>34.866</td>\n",
       "      <td>NaN</td>\n",
       "      <td>NaN</td>\n",
       "      <td>NaN</td>\n",
       "      <td>NaN</td>\n",
       "      <td>NaN</td>\n",
       "      <td>NaN</td>\n",
       "      <td>...</td>\n",
       "      <td>NaN</td>\n",
       "      <td>NaN</td>\n",
       "      <td>NaN</td>\n",
       "      <td>NaN</td>\n",
       "      <td>NaN</td>\n",
       "      <td>NaN</td>\n",
       "      <td>NaN</td>\n",
       "      <td>NaN</td>\n",
       "      <td>NaN</td>\n",
       "      <td>NaN</td>\n",
       "    </tr>\n",
       "    <tr>\n",
       "      <th>4</th>\n",
       "      <td>Afghanistan</td>\n",
       "      <td>1964</td>\n",
       "      <td>Female</td>\n",
       "      <td>35.364</td>\n",
       "      <td>NaN</td>\n",
       "      <td>NaN</td>\n",
       "      <td>NaN</td>\n",
       "      <td>NaN</td>\n",
       "      <td>NaN</td>\n",
       "      <td>NaN</td>\n",
       "      <td>...</td>\n",
       "      <td>NaN</td>\n",
       "      <td>NaN</td>\n",
       "      <td>NaN</td>\n",
       "      <td>NaN</td>\n",
       "      <td>NaN</td>\n",
       "      <td>NaN</td>\n",
       "      <td>NaN</td>\n",
       "      <td>NaN</td>\n",
       "      <td>NaN</td>\n",
       "      <td>NaN</td>\n",
       "    </tr>\n",
       "  </tbody>\n",
       "</table>\n",
       "<p>5 rows × 33 columns</p>\n",
       "</div>"
      ],
      "text/plain": [
       "       Country  Year   Gender  Life Expectancy  % Population  % 0-14  % 15-64  \\\n",
       "0  Afghanistan  1960  Female            33.314           NaN     NaN      NaN   \n",
       "1  Afghanistan  1961  Female            33.840           NaN     NaN      NaN   \n",
       "2  Afghanistan  1962  Female            34.359           NaN     NaN      NaN   \n",
       "3  Afghanistan  1963  Female            34.866           NaN     NaN      NaN   \n",
       "4  Afghanistan  1964  Female            35.364           NaN     NaN      NaN   \n",
       "\n",
       "   % 65+  Employment  Unemployment Rate  ...  HIV  Water  Sanitation  TB  \\\n",
       "0    NaN         NaN                NaN  ...  NaN    NaN         NaN NaN   \n",
       "1    NaN         NaN                NaN  ...  NaN    NaN         NaN NaN   \n",
       "2    NaN         NaN                NaN  ...  NaN    NaN         NaN NaN   \n",
       "3    NaN         NaN                NaN  ...  NaN    NaN         NaN NaN   \n",
       "4    NaN         NaN                NaN  ...  NaN    NaN         NaN NaN   \n",
       "\n",
       "   Malaria  Hospital Beds  Physicians  Nurses  GDP  GDP per Capita  \n",
       "0      NaN            NaN         NaN     NaN  NaN             NaN  \n",
       "1      NaN            NaN         NaN     NaN  NaN             NaN  \n",
       "2      NaN            NaN         NaN     NaN  NaN             NaN  \n",
       "3      NaN            NaN         NaN     NaN  NaN             NaN  \n",
       "4      NaN            NaN         NaN     NaN  NaN             NaN  \n",
       "\n",
       "[5 rows x 33 columns]"
      ]
     },
     "execution_count": 3,
     "metadata": {},
     "output_type": "execute_result"
    }
   ],
   "source": [
    "world_data.head()"
   ]
  },
  {
   "cell_type": "markdown",
   "metadata": {},
   "source": [
    "## Column Definitions"
   ]
  },
  {
   "cell_type": "code",
   "execution_count": 4,
   "metadata": {},
   "outputs": [
    {
     "data": {
      "text/plain": [
       "Index(['Country', 'Year', 'Gender', 'Life Expectancy', '% Population',\n",
       "       '% 0-14', '% 15-64', '% 65+', 'Employment', 'Unemployment Rate',\n",
       "       'Death', 'Infant Mortality', 'Sucide Rate', 'Births',\n",
       "       'Total Population', 'Population 0-14', 'Population 15-64',\n",
       "       'Population 65+', 'Urban', 'Rural', 'DPT', 'HepB', 'Measles', 'HIV',\n",
       "       'Water', 'Sanitation', 'TB', 'Malaria', 'Hospital Beds', 'Physicians',\n",
       "       'Nurses', 'GDP', 'GDP per Capita'],\n",
       "      dtype='object')"
      ]
     },
     "execution_count": 4,
     "metadata": {},
     "output_type": "execute_result"
    }
   ],
   "source": [
    "world_data.columns"
   ]
  },
  {
   "cell_type": "markdown",
   "metadata": {},
   "source": [
    "| Column Name | Column Type | Column Definition |\n",
    "| --- | --- | --- |\n",
    "| Country | String | Country name |\n",
    "| Year | Integer | Recorded year |\n",
    "| Gender | String | Recorded gender |\n",
    "| Life Expectancy | Float | Life expectancy for gender in given year |\n",
    "| % Population | Float | Proportion of total population given gender makes up |\n",
    "| % 0-14 | Float | Proportion of population ages 0-14 given gender makes up |\n",
    "| % 15-64 | Float | Proportion of population ages 15-64 given gender makes up|\n",
    "| % 65+ | Float | Proportion of population ages 65+ given gender makes up |\n",
    "| Employment | Float | Employment rate of given gender in given year |\n",
    "| Unemployment | Float | Unemployment rate of labor force of given gender in given year |\n",
    "| Death | Float | Death rate per 100,000 people of given gender in given year |\n",
    "| Infant Mortality | Float | Infant mortality rate of given geder per 1,000 live births of given gender |\n",
    "| sucide | Float | sucide rate per 100,000 people of given gender |\n",
    "| Births | Float | Number of total live births per 1,000 people in given year |\n",
    "| Total Population | Float | Total population of gender in given year |\n",
    "| Population 0-14 | Float | Total population of gender ages 0-14 in given year |\n",
    "| Population 15-64 | Float | Total population of gender ages 15-64 in given year |\n",
    "| Urban | Float | Percent of population living in an urban location |\n",
    "| Rural | Float | Percent of population living in a rural location |\n",
    "| DPT | Float | Percent of children vaccinated against DPT |\n",
    "| HepB | Float | Percent of children vaccinated against HepB |\n",
    "| Measles | Float | Percent of children vaccinated against measles |\n",
    "| HIV | Float | Percent of population living with HIV |\n",
    "| Water | Float | Percent of population with access to clean water |\n",
    "| Sanitation | Float | Percent of population with access to basic sanitation |\n",
    "| TB | Float | Incidents of tuberculosis per 100,000 people |\n",
    "| Malaria | Float | Incidents of malaria per 1,000 at-risk people |\n",
    "| Hospital Beds | Float | Hospital beds per 1,000 people |\n",
    "| Physicians | Float | Physicians per 1,000 people |\n",
    "| Nurses | Float | Nurses/midwives per 1,000 people |\n",
    "| GDP | Float | Gross domestic product |\n",
    "| GDP per Capita | Float | Gross domestic product per capita |"
   ]
  },
  {
   "cell_type": "code",
   "execution_count": 5,
   "metadata": {},
   "outputs": [
    {
     "data": {
      "text/plain": [
       "array(['Afghanistan', 'Africa Eastern and Southern',\n",
       "       'Africa Western and Central', 'Albania', 'Algeria', 'Angola',\n",
       "       'Antigua and Barbuda', 'Arab World', 'Argentina', 'Armenia',\n",
       "       'Aruba', 'Australia', 'Austria', 'Azerbaijan', 'Bahamas, The',\n",
       "       'Bahrain', 'Bangladesh', 'Barbados', 'Belarus', 'Belgium',\n",
       "       'Belize', 'Benin', 'Bermuda', 'Bhutan', 'Bolivia',\n",
       "       'Bosnia and Herzegovina', 'Botswana', 'Brazil',\n",
       "       'Brunei Darussalam', 'Bulgaria', 'Burkina Faso', 'Burundi',\n",
       "       'Cabo Verde', 'Cambodia', 'Cameroon', 'Canada',\n",
       "       'Caribbean small states', 'Cayman Islands',\n",
       "       'Central African Republic', 'Central Europe and the Baltics',\n",
       "       'Chad', 'Channel Islands', 'Chile', 'China', 'Colombia', 'Comoros',\n",
       "       'Congo, Dem. Rep.', 'Congo, Rep.', 'Costa Rica', \"Cote d'Ivoire\",\n",
       "       'Croatia', 'Cuba', 'Curacao', 'Cyprus', 'Czech Republic',\n",
       "       'Denmark', 'Djibouti', 'Dominica', 'Dominican Republic',\n",
       "       'Early-demographic dividend', 'East Asia & Pacific',\n",
       "       'East Asia & Pacific (IDA & IBRD countries)',\n",
       "       'East Asia & Pacific (excluding high income)', 'Ecuador',\n",
       "       'Egypt, Arab Rep.', 'El Salvador', 'Equatorial Guinea', 'Eritrea',\n",
       "       'Estonia', 'Eswatini', 'Ethiopia', 'Euro area',\n",
       "       'Europe & Central Asia',\n",
       "       'Europe & Central Asia (IDA & IBRD countries)',\n",
       "       'Europe & Central Asia (excluding high income)', 'European Union',\n",
       "       'Faroe Islands', 'Fiji', 'Finland',\n",
       "       'Fragile and conflict affected situations', 'France',\n",
       "       'French Polynesia', 'Gabon', 'Gambia, The', 'Georgia', 'Germany',\n",
       "       'Ghana', 'Greece', 'Greenland', 'Grenada', 'Guam', 'Guatemala',\n",
       "       'Guinea', 'Guinea-Bissau', 'Guyana', 'Haiti',\n",
       "       'Heavily indebted poor countries (HIPC)', 'High income',\n",
       "       'Honduras', 'Hong Kong SAR, China', 'Hungary', 'IBRD only',\n",
       "       'IDA & IBRD total', 'IDA blend', 'IDA only', 'IDA total',\n",
       "       'Iceland', 'India', 'Indonesia', 'Iran, Islamic Rep.', 'Iraq',\n",
       "       'Ireland', 'Isle of Man', 'Israel', 'Italy', 'Jamaica', 'Japan',\n",
       "       'Jordan', 'Kazakhstan', 'Kenya', 'Kiribati',\n",
       "       \"Korea, Dem. People's Rep.\", 'Korea, Rep.', 'Kosovo', 'Kuwait',\n",
       "       'Kyrgyz Republic', 'Lao PDR', 'Late-demographic dividend',\n",
       "       'Latin America & Caribbean',\n",
       "       'Latin America & Caribbean (excluding high income)',\n",
       "       'Latin America & the Caribbean (IDA & IBRD countries)', 'Latvia',\n",
       "       'Least developed countries: UN classification', 'Lebanon',\n",
       "       'Lesotho', 'Liberia', 'Libya', 'Liechtenstein', 'Lithuania',\n",
       "       'Low & middle income', 'Low income', 'Lower middle income',\n",
       "       'Luxembourg', 'Macao SAR, China', 'Madagascar', 'Malawi',\n",
       "       'Malaysia', 'Maldives', 'Mali', 'Malta', 'Marshall Islands',\n",
       "       'Mauritania', 'Mauritius', 'Mexico', 'Micronesia, Fed. Sts.',\n",
       "       'Middle East & North Africa',\n",
       "       'Middle East & North Africa (IDA & IBRD countries)',\n",
       "       'Middle East & North Africa (excluding high income)',\n",
       "       'Middle income', 'Moldova', 'Mongolia', 'Montenegro', 'Morocco',\n",
       "       'Mozambique', 'Myanmar', 'Namibia', 'Nepal', 'Netherlands',\n",
       "       'New Caledonia', 'New Zealand', 'Nicaragua', 'Niger', 'Nigeria',\n",
       "       'North America', 'North Macedonia', 'Norway', 'OECD members',\n",
       "       'Oman', 'Other small states', 'Pacific island small states',\n",
       "       'Pakistan', 'Palau', 'Panama', 'Papua New Guinea', 'Paraguay',\n",
       "       'Peru', 'Philippines', 'Poland', 'Portugal',\n",
       "       'Post-demographic dividend', 'Pre-demographic dividend',\n",
       "       'Puerto Rico', 'Qatar', 'Romania', 'Russian Federation', 'Rwanda',\n",
       "       'Samoa', 'San Marino', 'Sao Tome and Principe', 'Saudi Arabia',\n",
       "       'Senegal', 'Serbia', 'Seychelles', 'Sierra Leone', 'Singapore',\n",
       "       'Sint Maarten (Dutch part)', 'Slovak Republic', 'Slovenia',\n",
       "       'Small states', 'Solomon Islands', 'Somalia', 'South Africa',\n",
       "       'South Asia', 'South Asia (IDA & IBRD)', 'South Sudan', 'Spain',\n",
       "       'Sri Lanka', 'St. Kitts and Nevis', 'St. Lucia',\n",
       "       'St. Martin (French part)', 'St. Vincent and the Grenadines',\n",
       "       'Sub-Saharan Africa', 'Sub-Saharan Africa (IDA & IBRD countries)',\n",
       "       'Sub-Saharan Africa (excluding high income)', 'Sudan', 'Suriname',\n",
       "       'Sweden', 'Switzerland', 'Syrian Arab Republic', 'Tajikistan',\n",
       "       'Tanzania', 'Thailand', 'Timor-Leste', 'Togo', 'Tonga',\n",
       "       'Trinidad and Tobago', 'Tunisia', 'Turkey', 'Turkmenistan',\n",
       "       'Uganda', 'Ukraine', 'United Arab Emirates', 'United Kingdom',\n",
       "       'United States', 'Upper middle income', 'Uruguay', 'Uzbekistan',\n",
       "       'Vanuatu', 'Venezuela, RB', 'Vietnam', 'Virgin Islands (U.S.)',\n",
       "       'West Bank and Gaza', 'World', 'Yemen, Rep.', 'Zambia', 'Zimbabwe'],\n",
       "      dtype=object)"
      ]
     },
     "execution_count": 5,
     "metadata": {},
     "output_type": "execute_result"
    }
   ],
   "source": [
    "world_data.Country.unique()"
   ]
  },
  {
   "cell_type": "markdown",
   "metadata": {},
   "source": [
    "## Data Description"
   ]
  },
  {
   "cell_type": "code",
   "execution_count": 6,
   "metadata": {},
   "outputs": [
    {
     "name": "stdout",
     "output_type": "stream",
     "text": [
      "<class 'pandas.core.frame.DataFrame'>\n",
      "RangeIndex: 29220 entries, 0 to 29219\n",
      "Data columns (total 33 columns):\n",
      " #   Column             Non-Null Count  Dtype  \n",
      "---  ------             --------------  -----  \n",
      " 0   Country            29220 non-null  object \n",
      " 1   Year               29220 non-null  int64  \n",
      " 2   Gender             29220 non-null  object \n",
      " 3   Life Expectancy    29220 non-null  float64\n",
      " 4   % Population       14371 non-null  float64\n",
      " 5   % 0-14             14371 non-null  float64\n",
      " 6   % 15-64            0 non-null      float64\n",
      " 7   % 65+              0 non-null      float64\n",
      " 8   Employment         6808 non-null   float64\n",
      " 9   Unemployment Rate  4337 non-null   float64\n",
      " 10  Death              14238 non-null  float64\n",
      " 11  Infant Mortality   11368 non-null  float64\n",
      " 12  Sucide Rate        4544 non-null   float64\n",
      " 13  Births             29212 non-null  float64\n",
      " 14  Total Population   28736 non-null  float64\n",
      " 15  Population 0-14    28736 non-null  float64\n",
      " 16  Population 15-64   28736 non-null  float64\n",
      " 17  Population 65+     28736 non-null  float64\n",
      " 18  Urban              28736 non-null  float64\n",
      " 19  Rural              28736 non-null  float64\n",
      " 20  DPT                17230 non-null  float64\n",
      " 21  HepB               10272 non-null  float64\n",
      " 22  Measles            17042 non-null  float64\n",
      " 23  HIV                6536 non-null   float64\n",
      " 24  Water              5560 non-null   float64\n",
      " 25  Sanitation         9504 non-null   float64\n",
      " 26  TB                 8352 non-null   float64\n",
      " 27  Malaria            5344 non-null   float64\n",
      " 28  Hospital Beds      3204 non-null   float64\n",
      " 29  Physicians         3204 non-null   float64\n",
      " 30  Nurses             3204 non-null   float64\n",
      " 31  GDP                3138 non-null   float64\n",
      " 32  GDP per Capita     3138 non-null   float64\n",
      "dtypes: float64(30), int64(1), object(2)\n",
      "memory usage: 7.4+ MB\n"
     ]
    }
   ],
   "source": [
    "world_data.info()"
   ]
  },
  {
   "cell_type": "code",
   "execution_count": 7,
   "metadata": {},
   "outputs": [
    {
     "data": {
      "text/html": [
       "<div>\n",
       "<style scoped>\n",
       "    .dataframe tbody tr th:only-of-type {\n",
       "        vertical-align: middle;\n",
       "    }\n",
       "\n",
       "    .dataframe tbody tr th {\n",
       "        vertical-align: top;\n",
       "    }\n",
       "\n",
       "    .dataframe thead th {\n",
       "        text-align: right;\n",
       "    }\n",
       "</style>\n",
       "<table border=\"1\" class=\"dataframe\">\n",
       "  <thead>\n",
       "    <tr style=\"text-align: right;\">\n",
       "      <th></th>\n",
       "      <th>Year</th>\n",
       "      <th>Life Expectancy</th>\n",
       "      <th>% Population</th>\n",
       "      <th>% 0-14</th>\n",
       "      <th>% 15-64</th>\n",
       "      <th>% 65+</th>\n",
       "      <th>Employment</th>\n",
       "      <th>Unemployment Rate</th>\n",
       "      <th>Death</th>\n",
       "      <th>Infant Mortality</th>\n",
       "      <th>...</th>\n",
       "      <th>HIV</th>\n",
       "      <th>Water</th>\n",
       "      <th>Sanitation</th>\n",
       "      <th>TB</th>\n",
       "      <th>Malaria</th>\n",
       "      <th>Hospital Beds</th>\n",
       "      <th>Physicians</th>\n",
       "      <th>Nurses</th>\n",
       "      <th>GDP</th>\n",
       "      <th>GDP per Capita</th>\n",
       "    </tr>\n",
       "  </thead>\n",
       "  <tbody>\n",
       "    <tr>\n",
       "      <th>count</th>\n",
       "      <td>29220.000000</td>\n",
       "      <td>29220.000000</td>\n",
       "      <td>14371.000000</td>\n",
       "      <td>14371.000000</td>\n",
       "      <td>0.0</td>\n",
       "      <td>0.0</td>\n",
       "      <td>6808.000000</td>\n",
       "      <td>4337.000000</td>\n",
       "      <td>14238.000000</td>\n",
       "      <td>11368.000000</td>\n",
       "      <td>...</td>\n",
       "      <td>6536.000000</td>\n",
       "      <td>5560.000000</td>\n",
       "      <td>9504.000000</td>\n",
       "      <td>8352.000000</td>\n",
       "      <td>5344.000000</td>\n",
       "      <td>3204.000000</td>\n",
       "      <td>3204.000000</td>\n",
       "      <td>3204.000000</td>\n",
       "      <td>3.138000e+03</td>\n",
       "      <td>3138.000000</td>\n",
       "    </tr>\n",
       "    <tr>\n",
       "      <th>mean</th>\n",
       "      <td>1989.790828</td>\n",
       "      <td>63.926972</td>\n",
       "      <td>49.895000</td>\n",
       "      <td>35.355511</td>\n",
       "      <td>NaN</td>\n",
       "      <td>NaN</td>\n",
       "      <td>4.013498</td>\n",
       "      <td>7.598222</td>\n",
       "      <td>264.015450</td>\n",
       "      <td>55.382817</td>\n",
       "      <td>...</td>\n",
       "      <td>27.479568</td>\n",
       "      <td>68.082131</td>\n",
       "      <td>70.475717</td>\n",
       "      <td>137.023218</td>\n",
       "      <td>109.272301</td>\n",
       "      <td>4.753822</td>\n",
       "      <td>2.739068</td>\n",
       "      <td>6.275062</td>\n",
       "      <td>1.023619e+12</td>\n",
       "      <td>18258.562152</td>\n",
       "    </tr>\n",
       "    <tr>\n",
       "      <th>std</th>\n",
       "      <td>17.298084</td>\n",
       "      <td>11.539590</td>\n",
       "      <td>2.305344</td>\n",
       "      <td>10.164287</td>\n",
       "      <td>NaN</td>\n",
       "      <td>NaN</td>\n",
       "      <td>2.843307</td>\n",
       "      <td>5.462334</td>\n",
       "      <td>113.751549</td>\n",
       "      <td>47.311113</td>\n",
       "      <td>...</td>\n",
       "      <td>24.408888</td>\n",
       "      <td>30.434107</td>\n",
       "      <td>29.596569</td>\n",
       "      <td>191.268339</td>\n",
       "      <td>149.559615</td>\n",
       "      <td>2.983973</td>\n",
       "      <td>1.546371</td>\n",
       "      <td>4.119974</td>\n",
       "      <td>4.520766e+12</td>\n",
       "      <td>20958.656824</td>\n",
       "    </tr>\n",
       "    <tr>\n",
       "      <th>min</th>\n",
       "      <td>1960.000000</td>\n",
       "      <td>16.286000</td>\n",
       "      <td>44.133033</td>\n",
       "      <td>8.629462</td>\n",
       "      <td>NaN</td>\n",
       "      <td>NaN</td>\n",
       "      <td>0.000000</td>\n",
       "      <td>0.020000</td>\n",
       "      <td>40.844000</td>\n",
       "      <td>1.800000</td>\n",
       "      <td>...</td>\n",
       "      <td>0.000000</td>\n",
       "      <td>2.331173</td>\n",
       "      <td>2.755094</td>\n",
       "      <td>0.000000</td>\n",
       "      <td>0.000000</td>\n",
       "      <td>0.010000</td>\n",
       "      <td>0.023000</td>\n",
       "      <td>0.111900</td>\n",
       "      <td>1.561204e+08</td>\n",
       "      <td>60.458214</td>\n",
       "    </tr>\n",
       "    <tr>\n",
       "      <th>25%</th>\n",
       "      <td>1975.000000</td>\n",
       "      <td>55.577448</td>\n",
       "      <td>49.008356</td>\n",
       "      <td>26.569432</td>\n",
       "      <td>NaN</td>\n",
       "      <td>NaN</td>\n",
       "      <td>1.760000</td>\n",
       "      <td>3.950000</td>\n",
       "      <td>179.660000</td>\n",
       "      <td>17.100000</td>\n",
       "      <td>...</td>\n",
       "      <td>4.000000</td>\n",
       "      <td>44.809967</td>\n",
       "      <td>45.242077</td>\n",
       "      <td>17.000000</td>\n",
       "      <td>1.623000</td>\n",
       "      <td>2.520000</td>\n",
       "      <td>1.640500</td>\n",
       "      <td>3.257400</td>\n",
       "      <td>1.475151e+10</td>\n",
       "      <td>2622.262881</td>\n",
       "    </tr>\n",
       "    <tr>\n",
       "      <th>50%</th>\n",
       "      <td>1990.000000</td>\n",
       "      <td>66.046000</td>\n",
       "      <td>49.730247</td>\n",
       "      <td>38.123032</td>\n",
       "      <td>NaN</td>\n",
       "      <td>NaN</td>\n",
       "      <td>3.399619</td>\n",
       "      <td>6.430000</td>\n",
       "      <td>247.233500</td>\n",
       "      <td>42.046314</td>\n",
       "      <td>...</td>\n",
       "      <td>22.080715</td>\n",
       "      <td>76.772456</td>\n",
       "      <td>83.454891</td>\n",
       "      <td>58.000000</td>\n",
       "      <td>16.479783</td>\n",
       "      <td>4.200000</td>\n",
       "      <td>2.675250</td>\n",
       "      <td>5.608750</td>\n",
       "      <td>8.059002e+10</td>\n",
       "      <td>9171.331476</td>\n",
       "    </tr>\n",
       "    <tr>\n",
       "      <th>75%</th>\n",
       "      <td>2005.000000</td>\n",
       "      <td>72.937250</td>\n",
       "      <td>50.480929</td>\n",
       "      <td>44.208608</td>\n",
       "      <td>NaN</td>\n",
       "      <td>NaN</td>\n",
       "      <td>5.829334</td>\n",
       "      <td>9.551654</td>\n",
       "      <td>335.300250</td>\n",
       "      <td>81.700000</td>\n",
       "      <td>...</td>\n",
       "      <td>46.022686</td>\n",
       "      <td>95.967926</td>\n",
       "      <td>96.716518</td>\n",
       "      <td>190.000000</td>\n",
       "      <td>212.308738</td>\n",
       "      <td>6.593184</td>\n",
       "      <td>3.550500</td>\n",
       "      <td>8.437500</td>\n",
       "      <td>3.922181e+11</td>\n",
       "      <td>29204.039831</td>\n",
       "    </tr>\n",
       "    <tr>\n",
       "      <th>max</th>\n",
       "      <td>2019.000000</td>\n",
       "      <td>88.100000</td>\n",
       "      <td>76.710946</td>\n",
       "      <td>54.151248</td>\n",
       "      <td>NaN</td>\n",
       "      <td>NaN</td>\n",
       "      <td>20.870001</td>\n",
       "      <td>52.000000</td>\n",
       "      <td>921.630000</td>\n",
       "      <td>296.100000</td>\n",
       "      <td>...</td>\n",
       "      <td>98.000000</td>\n",
       "      <td>100.000003</td>\n",
       "      <td>100.000004</td>\n",
       "      <td>1590.000000</td>\n",
       "      <td>743.514339</td>\n",
       "      <td>15.500000</td>\n",
       "      <td>8.295000</td>\n",
       "      <td>23.112900</td>\n",
       "      <td>8.119329e+13</td>\n",
       "      <td>123514.196686</td>\n",
       "    </tr>\n",
       "  </tbody>\n",
       "</table>\n",
       "<p>8 rows × 31 columns</p>\n",
       "</div>"
      ],
      "text/plain": [
       "               Year  Life Expectancy  % Population        % 0-14  % 15-64  \\\n",
       "count  29220.000000     29220.000000  14371.000000  14371.000000      0.0   \n",
       "mean    1989.790828        63.926972     49.895000     35.355511      NaN   \n",
       "std       17.298084        11.539590      2.305344     10.164287      NaN   \n",
       "min     1960.000000        16.286000     44.133033      8.629462      NaN   \n",
       "25%     1975.000000        55.577448     49.008356     26.569432      NaN   \n",
       "50%     1990.000000        66.046000     49.730247     38.123032      NaN   \n",
       "75%     2005.000000        72.937250     50.480929     44.208608      NaN   \n",
       "max     2019.000000        88.100000     76.710946     54.151248      NaN   \n",
       "\n",
       "       % 65+   Employment  Unemployment Rate         Death  Infant Mortality  \\\n",
       "count    0.0  6808.000000        4337.000000  14238.000000      11368.000000   \n",
       "mean     NaN     4.013498           7.598222    264.015450         55.382817   \n",
       "std      NaN     2.843307           5.462334    113.751549         47.311113   \n",
       "min      NaN     0.000000           0.020000     40.844000          1.800000   \n",
       "25%      NaN     1.760000           3.950000    179.660000         17.100000   \n",
       "50%      NaN     3.399619           6.430000    247.233500         42.046314   \n",
       "75%      NaN     5.829334           9.551654    335.300250         81.700000   \n",
       "max      NaN    20.870001          52.000000    921.630000        296.100000   \n",
       "\n",
       "       ...          HIV        Water   Sanitation           TB      Malaria  \\\n",
       "count  ...  6536.000000  5560.000000  9504.000000  8352.000000  5344.000000   \n",
       "mean   ...    27.479568    68.082131    70.475717   137.023218   109.272301   \n",
       "std    ...    24.408888    30.434107    29.596569   191.268339   149.559615   \n",
       "min    ...     0.000000     2.331173     2.755094     0.000000     0.000000   \n",
       "25%    ...     4.000000    44.809967    45.242077    17.000000     1.623000   \n",
       "50%    ...    22.080715    76.772456    83.454891    58.000000    16.479783   \n",
       "75%    ...    46.022686    95.967926    96.716518   190.000000   212.308738   \n",
       "max    ...    98.000000   100.000003   100.000004  1590.000000   743.514339   \n",
       "\n",
       "       Hospital Beds   Physicians       Nurses           GDP  GDP per Capita  \n",
       "count    3204.000000  3204.000000  3204.000000  3.138000e+03     3138.000000  \n",
       "mean        4.753822     2.739068     6.275062  1.023619e+12    18258.562152  \n",
       "std         2.983973     1.546371     4.119974  4.520766e+12    20958.656824  \n",
       "min         0.010000     0.023000     0.111900  1.561204e+08       60.458214  \n",
       "25%         2.520000     1.640500     3.257400  1.475151e+10     2622.262881  \n",
       "50%         4.200000     2.675250     5.608750  8.059002e+10     9171.331476  \n",
       "75%         6.593184     3.550500     8.437500  3.922181e+11    29204.039831  \n",
       "max        15.500000     8.295000    23.112900  8.119329e+13   123514.196686  \n",
       "\n",
       "[8 rows x 31 columns]"
      ]
     },
     "execution_count": 7,
     "metadata": {},
     "output_type": "execute_result"
    }
   ],
   "source": [
    "world_data.describe()"
   ]
  },
  {
   "cell_type": "code",
   "execution_count": 8,
   "metadata": {},
   "outputs": [
    {
     "data": {
      "text/plain": [
       "Gender\n",
       "Female     66.226723\n",
       "Male       61.627222\n",
       "Name: Life Expectancy, dtype: float64"
      ]
     },
     "execution_count": 8,
     "metadata": {},
     "output_type": "execute_result"
    }
   ],
   "source": [
    "world_life_exp_gender = world_data.groupby(\"Gender\")[\"Life Expectancy\"].mean()\n",
    "\n",
    "world_life_exp_gender"
   ]
  },
  {
   "cell_type": "code",
   "execution_count": 9,
   "metadata": {},
   "outputs": [
    {
     "data": {
      "text/plain": [
       "Country\n",
       "Afghanistan                    49.245600\n",
       "Africa Eastern and Southern    51.721811\n",
       "Africa Western and Central     47.816290\n",
       "Albania                        71.781575\n",
       "Algeria                        63.571667\n",
       "                                 ...    \n",
       "West Bank and Gaza             71.634483\n",
       "World                          64.558577\n",
       "Yemen, Rep.                    52.544667\n",
       "Zambia                         51.107117\n",
       "Zimbabwe                       54.557108\n",
       "Name: Life Expectancy, Length: 256, dtype: float64"
      ]
     },
     "execution_count": 9,
     "metadata": {},
     "output_type": "execute_result"
    }
   ],
   "source": [
    "country_life_exp = world_data.groupby(\"Country\")[\"Life Expectancy\"].mean()\n",
    "\n",
    "country_life_exp"
   ]
  },
  {
   "cell_type": "code",
   "execution_count": 10,
   "metadata": {},
   "outputs": [
    {
     "data": {
      "text/plain": [
       "count    256.000000\n",
       "mean      64.479766\n",
       "std        9.646710\n",
       "min       40.962425\n",
       "25%       56.264792\n",
       "50%       66.667221\n",
       "75%       71.831672\n",
       "max       85.450000\n",
       "Name: Life Expectancy, dtype: float64"
      ]
     },
     "execution_count": 10,
     "metadata": {},
     "output_type": "execute_result"
    }
   ],
   "source": [
    "country_life_exp.describe()"
   ]
  },
  {
   "cell_type": "code",
   "execution_count": 11,
   "metadata": {},
   "outputs": [
    {
     "data": {
      "text/plain": [
       "Avg Life Exp     116\n",
       "High Life Exp     80\n",
       "Low Life Exp      60\n",
       "Name: Life Expectancy, dtype: int64"
      ]
     },
     "execution_count": 11,
     "metadata": {},
     "output_type": "execute_result"
    }
   ],
   "source": [
    "life_exp = pd.cut(country_life_exp, 3, labels=[\"Low Life Exp\", \"Avg Life Exp\", \"High Life Exp\"])\n",
    "\n",
    "life_exp.value_counts()"
   ]
  },
  {
   "cell_type": "code",
   "execution_count": 12,
   "metadata": {},
   "outputs": [
    {
     "data": {
      "text/plain": [
       "Country\n",
       "Afghanistan                     Low Life Exp\n",
       "Africa Eastern and Southern     Low Life Exp\n",
       "Africa Western and Central      Low Life Exp\n",
       "Albania                        High Life Exp\n",
       "Algeria                         Avg Life Exp\n",
       "                                   ...      \n",
       "West Bank and Gaza             High Life Exp\n",
       "World                           Avg Life Exp\n",
       "Yemen, Rep.                     Low Life Exp\n",
       "Zambia                          Low Life Exp\n",
       "Zimbabwe                        Low Life Exp\n",
       "Name: Life Expectancy, Length: 256, dtype: category\n",
       "Categories (3, object): ['Low Life Exp' < 'Avg Life Exp' < 'High Life Exp']"
      ]
     },
     "execution_count": 12,
     "metadata": {},
     "output_type": "execute_result"
    }
   ],
   "source": [
    "life_exp"
   ]
  },
  {
   "cell_type": "code",
   "execution_count": 13,
   "metadata": {},
   "outputs": [
    {
     "data": {
      "text/html": [
       "<div>\n",
       "<style scoped>\n",
       "    .dataframe tbody tr th:only-of-type {\n",
       "        vertical-align: middle;\n",
       "    }\n",
       "\n",
       "    .dataframe tbody tr th {\n",
       "        vertical-align: top;\n",
       "    }\n",
       "\n",
       "    .dataframe thead th {\n",
       "        text-align: right;\n",
       "    }\n",
       "</style>\n",
       "<table border=\"1\" class=\"dataframe\">\n",
       "  <thead>\n",
       "    <tr style=\"text-align: right;\">\n",
       "      <th></th>\n",
       "      <th>Country</th>\n",
       "      <th>Year</th>\n",
       "      <th>Gender</th>\n",
       "      <th>Life Expectancy</th>\n",
       "      <th>Life Expectancy Category</th>\n",
       "    </tr>\n",
       "  </thead>\n",
       "  <tbody>\n",
       "    <tr>\n",
       "      <th>0</th>\n",
       "      <td>Afghanistan</td>\n",
       "      <td>1960</td>\n",
       "      <td>Female</td>\n",
       "      <td>33.314</td>\n",
       "      <td>Low Life Exp</td>\n",
       "    </tr>\n",
       "    <tr>\n",
       "      <th>1</th>\n",
       "      <td>Afghanistan</td>\n",
       "      <td>1961</td>\n",
       "      <td>Female</td>\n",
       "      <td>33.840</td>\n",
       "      <td>Low Life Exp</td>\n",
       "    </tr>\n",
       "    <tr>\n",
       "      <th>2</th>\n",
       "      <td>Afghanistan</td>\n",
       "      <td>1962</td>\n",
       "      <td>Female</td>\n",
       "      <td>34.359</td>\n",
       "      <td>Low Life Exp</td>\n",
       "    </tr>\n",
       "    <tr>\n",
       "      <th>3</th>\n",
       "      <td>Afghanistan</td>\n",
       "      <td>1963</td>\n",
       "      <td>Female</td>\n",
       "      <td>34.866</td>\n",
       "      <td>Low Life Exp</td>\n",
       "    </tr>\n",
       "    <tr>\n",
       "      <th>4</th>\n",
       "      <td>Afghanistan</td>\n",
       "      <td>1964</td>\n",
       "      <td>Female</td>\n",
       "      <td>35.364</td>\n",
       "      <td>Low Life Exp</td>\n",
       "    </tr>\n",
       "  </tbody>\n",
       "</table>\n",
       "</div>"
      ],
      "text/plain": [
       "       Country  Year   Gender  Life Expectancy Life Expectancy Category\n",
       "0  Afghanistan  1960  Female            33.314             Low Life Exp\n",
       "1  Afghanistan  1961  Female            33.840             Low Life Exp\n",
       "2  Afghanistan  1962  Female            34.359             Low Life Exp\n",
       "3  Afghanistan  1963  Female            34.866             Low Life Exp\n",
       "4  Afghanistan  1964  Female            35.364             Low Life Exp"
      ]
     },
     "execution_count": 13,
     "metadata": {},
     "output_type": "execute_result"
    }
   ],
   "source": [
    "world_data_life_exp = world_data.merge(life_exp, how = \"left\", on = \"Country\")\n",
    "# world_data.drop(\"Life Expectancy\", axis=1, inplace=True)\n",
    "world_data_life_exp.rename(columns={\n",
    "  \"Life Expectancy_x\": \"Life Expectancy\",\n",
    "  \"Life Expectancy_y\": \"Life Expectancy Category\"\n",
    "}, inplace=True)\n",
    "\n",
    "world_data_life_exp = world_data_life_exp.loc[:, [\n",
    "  \"Country\", \"Year\", \"Gender\", \"Life Expectancy\", \"Life Expectancy Category\"\n",
    "]]\n",
    "\n",
    "world_data_life_exp.head()"
   ]
  },
  {
   "cell_type": "code",
   "execution_count": 14,
   "metadata": {},
   "outputs": [
    {
     "data": {
      "text/plain": [
       "Text(0.5, 0, 'Life Expectancy')"
      ]
     },
     "execution_count": 14,
     "metadata": {},
     "output_type": "execute_result"
    },
    {
     "data": {
      "image/png": "[encoded data removed]",
      "text/plain": [
       "<Figure size 640x480 with 1 Axes>"
      ]
     },
     "metadata": {},
     "output_type": "display_data"
    }
   ],
   "source": [
    "plt.hist(world_data_life_exp[[\"Life Expectancy\"]], bins=10)\n",
    "plt.xlabel(\"Life Expectancy\")"
   ]
  },
  {
   "cell_type": "code",
   "execution_count": 15,
   "metadata": {},
   "outputs": [
    {
     "data": {
      "text/plain": [
       "Text(0.5, 0, 'Life Expectancy')"
      ]
     },
     "execution_count": 15,
     "metadata": {},
     "output_type": "execute_result"
    },
    {
     "data": {
      "image/png": "[encoded data removed]",
      "text/plain": [
       "<Figure size 640x480 with 1 Axes>"
      ]
     },
     "metadata": {},
     "output_type": "display_data"
    }
   ],
   "source": [
    "plt.hist(world_data_life_exp[[\"Life Expectancy\"]], bins=100)\n",
    "plt.xlabel(\"Life Expectancy\")"
   ]
  },
  {
   "cell_type": "markdown",
   "metadata": {},
   "source": [
    "This looks like it will be a good contender for the gaussian mixture models - at first glance it looks like a normal skewed distribution, but adding more bins it looks like there might be two real peaks."
   ]
  },
  {
   "cell_type": "code",
   "execution_count": 16,
   "metadata": {},
   "outputs": [
    {
     "data": {
      "text/plain": [
       "Text(0.5, 0, 'Life Expectancy')"
      ]
     },
     "execution_count": 16,
     "metadata": {},
     "output_type": "execute_result"
    },
    {
     "data": {
      "image/png": "[encoded data removed]",
      "text/plain": [
       "<Figure size 640x480 with 1 Axes>"
      ]
     },
     "metadata": {},
     "output_type": "display_data"
    }
   ],
   "source": [
    "plt.hist(world_data_life_exp[[\"Life Expectancy Category\"]], bins=10)\n",
    "plt.xlabel(\"Life Expectancy\")"
   ]
  },
  {
   "cell_type": "code",
   "execution_count": 17,
   "metadata": {},
   "outputs": [
    {
     "data": {
      "text/html": [
       "<div>\n",
       "<style scoped>\n",
       "    .dataframe tbody tr th:only-of-type {\n",
       "        vertical-align: middle;\n",
       "    }\n",
       "\n",
       "    .dataframe tbody tr th {\n",
       "        vertical-align: top;\n",
       "    }\n",
       "\n",
       "    .dataframe thead th {\n",
       "        text-align: right;\n",
       "    }\n",
       "</style>\n",
       "<table border=\"1\" class=\"dataframe\">\n",
       "  <thead>\n",
       "    <tr style=\"text-align: right;\">\n",
       "      <th></th>\n",
       "      <th>Life Expectancy</th>\n",
       "    </tr>\n",
       "    <tr>\n",
       "      <th>Gender</th>\n",
       "      <th></th>\n",
       "    </tr>\n",
       "  </thead>\n",
       "  <tbody>\n",
       "    <tr>\n",
       "      <th>Female</th>\n",
       "      <td>66.226723</td>\n",
       "    </tr>\n",
       "    <tr>\n",
       "      <th>Male</th>\n",
       "      <td>61.627222</td>\n",
       "    </tr>\n",
       "  </tbody>\n",
       "</table>\n",
       "</div>"
      ],
      "text/plain": [
       "         Life Expectancy\n",
       "Gender                  \n",
       "Female         66.226723\n",
       "Male           61.627222"
      ]
     },
     "execution_count": 17,
     "metadata": {},
     "output_type": "execute_result"
    }
   ],
   "source": [
    "world_data_life_exp[[\"Gender\", \"Life Expectancy\"]].groupby(\"Gender\").mean()"
   ]
  },
  {
   "cell_type": "code",
   "execution_count": 18,
   "metadata": {},
   "outputs": [
    {
     "data": {
      "text/html": [
       "<div>\n",
       "<style scoped>\n",
       "    .dataframe tbody tr th:only-of-type {\n",
       "        vertical-align: middle;\n",
       "    }\n",
       "\n",
       "    .dataframe tbody tr th {\n",
       "        vertical-align: top;\n",
       "    }\n",
       "\n",
       "    .dataframe thead th {\n",
       "        text-align: right;\n",
       "    }\n",
       "</style>\n",
       "<table border=\"1\" class=\"dataframe\">\n",
       "  <thead>\n",
       "    <tr style=\"text-align: right;\">\n",
       "      <th></th>\n",
       "      <th></th>\n",
       "      <th>Life Expectancy</th>\n",
       "    </tr>\n",
       "    <tr>\n",
       "      <th>Country</th>\n",
       "      <th>Gender</th>\n",
       "      <th></th>\n",
       "    </tr>\n",
       "  </thead>\n",
       "  <tbody>\n",
       "    <tr>\n",
       "      <th rowspan=\"2\" valign=\"top\">Afghanistan</th>\n",
       "      <th>Female</th>\n",
       "      <td>50.344483</td>\n",
       "    </tr>\n",
       "    <tr>\n",
       "      <th>Male</th>\n",
       "      <td>48.146717</td>\n",
       "    </tr>\n",
       "    <tr>\n",
       "      <th rowspan=\"2\" valign=\"top\">Africa Eastern and Southern</th>\n",
       "      <th>Female</th>\n",
       "      <td>53.524745</td>\n",
       "    </tr>\n",
       "    <tr>\n",
       "      <th>Male</th>\n",
       "      <td>49.918876</td>\n",
       "    </tr>\n",
       "    <tr>\n",
       "      <th>Africa Western and Central</th>\n",
       "      <th>Female</th>\n",
       "      <td>48.986578</td>\n",
       "    </tr>\n",
       "    <tr>\n",
       "      <th>...</th>\n",
       "      <th>...</th>\n",
       "      <td>...</td>\n",
       "    </tr>\n",
       "    <tr>\n",
       "      <th>Yemen, Rep.</th>\n",
       "      <th>Male</th>\n",
       "      <td>51.074233</td>\n",
       "    </tr>\n",
       "    <tr>\n",
       "      <th rowspan=\"2\" valign=\"top\">Zambia</th>\n",
       "      <th>Female</th>\n",
       "      <td>52.867000</td>\n",
       "    </tr>\n",
       "    <tr>\n",
       "      <th>Male</th>\n",
       "      <td>49.347233</td>\n",
       "    </tr>\n",
       "    <tr>\n",
       "      <th rowspan=\"2\" valign=\"top\">Zimbabwe</th>\n",
       "      <th>Female</th>\n",
       "      <td>56.547600</td>\n",
       "    </tr>\n",
       "    <tr>\n",
       "      <th>Male</th>\n",
       "      <td>52.566617</td>\n",
       "    </tr>\n",
       "  </tbody>\n",
       "</table>\n",
       "<p>512 rows × 1 columns</p>\n",
       "</div>"
      ],
      "text/plain": [
       "                                     Life Expectancy\n",
       "Country                     Gender                  \n",
       "Afghanistan                 Female         50.344483\n",
       "                            Male           48.146717\n",
       "Africa Eastern and Southern Female         53.524745\n",
       "                            Male           49.918876\n",
       "Africa Western and Central  Female         48.986578\n",
       "...                                              ...\n",
       "Yemen, Rep.                 Male           51.074233\n",
       "Zambia                      Female         52.867000\n",
       "                            Male           49.347233\n",
       "Zimbabwe                    Female         56.547600\n",
       "                            Male           52.566617\n",
       "\n",
       "[512 rows x 1 columns]"
      ]
     },
     "execution_count": 18,
     "metadata": {},
     "output_type": "execute_result"
    }
   ],
   "source": [
    "world_life_country_gender = world_data_life_exp[[\"Country\", \"Gender\", \"Life Expectancy\"]].groupby([\"Country\", \"Gender\"]).mean()\n",
    "\n",
    "world_life_country_gender"
   ]
  },
  {
   "cell_type": "code",
   "execution_count": 19,
   "metadata": {},
   "outputs": [
    {
     "data": {
      "text/html": [
       "<div>\n",
       "<style scoped>\n",
       "    .dataframe tbody tr th:only-of-type {\n",
       "        vertical-align: middle;\n",
       "    }\n",
       "\n",
       "    .dataframe tbody tr th {\n",
       "        vertical-align: top;\n",
       "    }\n",
       "\n",
       "    .dataframe thead th {\n",
       "        text-align: right;\n",
       "    }\n",
       "</style>\n",
       "<table border=\"1\" class=\"dataframe\">\n",
       "  <thead>\n",
       "    <tr style=\"text-align: right;\">\n",
       "      <th></th>\n",
       "      <th>Country</th>\n",
       "      <th>Female Life Exp</th>\n",
       "      <th>Male Life Exp</th>\n",
       "    </tr>\n",
       "  </thead>\n",
       "  <tbody>\n",
       "    <tr>\n",
       "      <th>0</th>\n",
       "      <td>Afghanistan</td>\n",
       "      <td>50.344483</td>\n",
       "      <td>48.146717</td>\n",
       "    </tr>\n",
       "    <tr>\n",
       "      <th>1</th>\n",
       "      <td>Africa Eastern and Southern</td>\n",
       "      <td>53.524745</td>\n",
       "      <td>49.918876</td>\n",
       "    </tr>\n",
       "    <tr>\n",
       "      <th>2</th>\n",
       "      <td>Africa Western and Central</td>\n",
       "      <td>48.986578</td>\n",
       "      <td>46.646002</td>\n",
       "    </tr>\n",
       "    <tr>\n",
       "      <th>3</th>\n",
       "      <td>Albania</td>\n",
       "      <td>73.950033</td>\n",
       "      <td>69.613117</td>\n",
       "    </tr>\n",
       "    <tr>\n",
       "      <th>4</th>\n",
       "      <td>Algeria</td>\n",
       "      <td>64.760917</td>\n",
       "      <td>62.382417</td>\n",
       "    </tr>\n",
       "  </tbody>\n",
       "</table>\n",
       "</div>"
      ],
      "text/plain": [
       "                       Country  Female Life Exp  Male Life Exp\n",
       "0                  Afghanistan        50.344483      48.146717\n",
       "1  Africa Eastern and Southern        53.524745      49.918876\n",
       "2   Africa Western and Central        48.986578      46.646002\n",
       "3                      Albania        73.950033      69.613117\n",
       "4                      Algeria        64.760917      62.382417"
      ]
     },
     "execution_count": 19,
     "metadata": {},
     "output_type": "execute_result"
    }
   ],
   "source": [
    "world_life_country_gender.reset_index(inplace=True)\n",
    "gender_country = world_life_country_gender.pivot(index='Country', columns='Gender', values='Life Expectancy').reset_index()\n",
    "gender_country.columns.name = None\n",
    "\n",
    "gender_country.rename(columns = {\n",
    "  \"Female \": \"Female Life Exp\",\n",
    "  \"Male\": \"Male Life Exp\"\n",
    "}, inplace=True)\n",
    "\n",
    "gender_country.head()"
   ]
  },
  {
   "cell_type": "code",
   "execution_count": 20,
   "metadata": {},
   "outputs": [
    {
     "data": {
      "text/plain": [
       "Index(['Country', 'Female Life Exp', 'Male Life Exp'], dtype='object')"
      ]
     },
     "execution_count": 20,
     "metadata": {},
     "output_type": "execute_result"
    }
   ],
   "source": [
    "gender_country.columns"
   ]
  },
  {
   "cell_type": "code",
   "execution_count": 21,
   "metadata": {},
   "outputs": [
    {
     "name": "stderr",
     "output_type": "stream",
     "text": [
      "No artists with labels found to put in legend.  Note that artists whose label start with an underscore are ignored when legend() is called with no argument.\n"
     ]
    },
    {
     "data": {
      "image/png": "[encoded data removed]",
      "text/plain": [
       "<Figure size 640x480 with 1 Axes>"
      ]
     },
     "metadata": {},
     "output_type": "display_data"
    }
   ],
   "source": [
    "plt.hist(gender_country[[\"Female Life Exp\"]], bins = 100)\n",
    "plt.hist(gender_country[[\"Male Life Exp\"]], bins = 100)\n",
    "plt.title(\"Male / Female Life Expectancies\")\n",
    "plt.legend()\n",
    "plt.show()\n"
   ]
  },
  {
   "cell_type": "markdown",
   "metadata": {},
   "source": [
    "Even split between the genders, we see that there are two distinct peaks.\n",
    "What else should I examine? "
   ]
  },
  {
   "cell_type": "code",
   "execution_count": 22,
   "metadata": {},
   "outputs": [
    {
     "data": {
      "text/plain": [
       "Index(['Country', 'Year', 'Gender', 'Life Expectancy',\n",
       "       'Life Expectancy Category'],\n",
       "      dtype='object')"
      ]
     },
     "execution_count": 22,
     "metadata": {},
     "output_type": "execute_result"
    }
   ],
   "source": [
    "world_data_life_exp.columns"
   ]
  },
  {
   "cell_type": "code",
   "execution_count": 23,
   "metadata": {},
   "outputs": [
    {
     "data": {
      "text/plain": [
       "Index(['Country', 'Year', 'Gender', 'Life Expectancy', '% Population',\n",
       "       '% 0-14', '% 15-64', '% 65+', 'Employment', 'Unemployment Rate',\n",
       "       'Death', 'Infant Mortality', 'Sucide Rate', 'Births',\n",
       "       'Total Population', 'Population 0-14', 'Population 15-64',\n",
       "       'Population 65+', 'Urban', 'Rural', 'DPT', 'HepB', 'Measles', 'HIV',\n",
       "       'Water', 'Sanitation', 'TB', 'Malaria', 'Hospital Beds', 'Physicians',\n",
       "       'Nurses', 'GDP', 'GDP per Capita'],\n",
       "      dtype='object')"
      ]
     },
     "execution_count": 23,
     "metadata": {},
     "output_type": "execute_result"
    }
   ],
   "source": [
    "world_data.columns"
   ]
  },
  {
   "cell_type": "code",
   "execution_count": 24,
   "metadata": {},
   "outputs": [
    {
     "data": {
      "text/html": [
       "<div>\n",
       "<style scoped>\n",
       "    .dataframe tbody tr th:only-of-type {\n",
       "        vertical-align: middle;\n",
       "    }\n",
       "\n",
       "    .dataframe tbody tr th {\n",
       "        vertical-align: top;\n",
       "    }\n",
       "\n",
       "    .dataframe thead th {\n",
       "        text-align: right;\n",
       "    }\n",
       "</style>\n",
       "<table border=\"1\" class=\"dataframe\">\n",
       "  <thead>\n",
       "    <tr style=\"text-align: right;\">\n",
       "      <th></th>\n",
       "      <th>Life Expectancy</th>\n",
       "      <th>Sucide Rate</th>\n",
       "      <th>Births</th>\n",
       "      <th>Employment</th>\n",
       "      <th>Urban</th>\n",
       "      <th>Rural</th>\n",
       "      <th>Water</th>\n",
       "      <th>Sanitation</th>\n",
       "      <th>GDP</th>\n",
       "    </tr>\n",
       "    <tr>\n",
       "      <th>Country</th>\n",
       "      <th></th>\n",
       "      <th></th>\n",
       "      <th></th>\n",
       "      <th></th>\n",
       "      <th></th>\n",
       "      <th></th>\n",
       "      <th></th>\n",
       "      <th></th>\n",
       "      <th></th>\n",
       "    </tr>\n",
       "  </thead>\n",
       "  <tbody>\n",
       "    <tr>\n",
       "      <th>Afghanistan</th>\n",
       "      <td>49.245600</td>\n",
       "      <td>4.835000</td>\n",
       "      <td>46.894867</td>\n",
       "      <td>0.977241</td>\n",
       "      <td>18.488183</td>\n",
       "      <td>81.511817</td>\n",
       "      <td>18.481513</td>\n",
       "      <td>34.430811</td>\n",
       "      <td>1.464237e+10</td>\n",
       "    </tr>\n",
       "    <tr>\n",
       "      <th>Africa Eastern and Southern</th>\n",
       "      <td>51.721811</td>\n",
       "      <td>13.965614</td>\n",
       "      <td>42.670056</td>\n",
       "      <td>2.839339</td>\n",
       "      <td>24.764205</td>\n",
       "      <td>75.235795</td>\n",
       "      <td>NaN</td>\n",
       "      <td>26.758921</td>\n",
       "      <td>NaN</td>\n",
       "    </tr>\n",
       "    <tr>\n",
       "      <th>Africa Western and Central</th>\n",
       "      <td>47.816290</td>\n",
       "      <td>9.227080</td>\n",
       "      <td>44.248727</td>\n",
       "      <td>1.545341</td>\n",
       "      <td>30.164630</td>\n",
       "      <td>69.835370</td>\n",
       "      <td>19.232976</td>\n",
       "      <td>28.036871</td>\n",
       "      <td>NaN</td>\n",
       "    </tr>\n",
       "    <tr>\n",
       "      <th>Albania</th>\n",
       "      <td>71.781575</td>\n",
       "      <td>7.545000</td>\n",
       "      <td>23.258450</td>\n",
       "      <td>4.591724</td>\n",
       "      <td>40.083033</td>\n",
       "      <td>59.916967</td>\n",
       "      <td>60.703133</td>\n",
       "      <td>94.695037</td>\n",
       "      <td>6.398408e+09</td>\n",
       "    </tr>\n",
       "    <tr>\n",
       "      <th>Algeria</th>\n",
       "      <td>63.571667</td>\n",
       "      <td>4.160000</td>\n",
       "      <td>34.143867</td>\n",
       "      <td>6.213448</td>\n",
       "      <td>52.257150</td>\n",
       "      <td>47.742850</td>\n",
       "      <td>73.761476</td>\n",
       "      <td>86.198087</td>\n",
       "      <td>NaN</td>\n",
       "    </tr>\n",
       "    <tr>\n",
       "      <th>...</th>\n",
       "      <td>...</td>\n",
       "      <td>...</td>\n",
       "      <td>...</td>\n",
       "      <td>...</td>\n",
       "      <td>...</td>\n",
       "      <td>...</td>\n",
       "      <td>...</td>\n",
       "      <td>...</td>\n",
       "      <td>...</td>\n",
       "    </tr>\n",
       "    <tr>\n",
       "      <th>West Bank and Gaza</th>\n",
       "      <td>71.634483</td>\n",
       "      <td>NaN</td>\n",
       "      <td>37.470833</td>\n",
       "      <td>6.123103</td>\n",
       "      <td>72.703233</td>\n",
       "      <td>27.296767</td>\n",
       "      <td>76.265818</td>\n",
       "      <td>93.732859</td>\n",
       "      <td>NaN</td>\n",
       "    </tr>\n",
       "    <tr>\n",
       "      <th>World</th>\n",
       "      <td>64.558577</td>\n",
       "      <td>14.590387</td>\n",
       "      <td>25.627091</td>\n",
       "      <td>3.407743</td>\n",
       "      <td>43.523538</td>\n",
       "      <td>56.476462</td>\n",
       "      <td>66.492867</td>\n",
       "      <td>66.336188</td>\n",
       "      <td>5.750463e+13</td>\n",
       "    </tr>\n",
       "    <tr>\n",
       "      <th>Yemen, Rep.</th>\n",
       "      <td>52.544667</td>\n",
       "      <td>6.930000</td>\n",
       "      <td>46.792167</td>\n",
       "      <td>7.583448</td>\n",
       "      <td>21.745917</td>\n",
       "      <td>78.254083</td>\n",
       "      <td>NaN</td>\n",
       "      <td>49.420565</td>\n",
       "      <td>2.855069e+10</td>\n",
       "    </tr>\n",
       "    <tr>\n",
       "      <th>Zambia</th>\n",
       "      <td>51.107117</td>\n",
       "      <td>14.895000</td>\n",
       "      <td>45.524683</td>\n",
       "      <td>0.496207</td>\n",
       "      <td>35.504000</td>\n",
       "      <td>64.496000</td>\n",
       "      <td>NaN</td>\n",
       "      <td>26.952741</td>\n",
       "      <td>1.908821e+10</td>\n",
       "    </tr>\n",
       "    <tr>\n",
       "      <th>Zimbabwe</th>\n",
       "      <td>54.557108</td>\n",
       "      <td>20.000000</td>\n",
       "      <td>39.518650</td>\n",
       "      <td>0.646207</td>\n",
       "      <td>26.205533</td>\n",
       "      <td>73.794467</td>\n",
       "      <td>31.623855</td>\n",
       "      <td>41.157871</td>\n",
       "      <td>1.144287e+10</td>\n",
       "    </tr>\n",
       "  </tbody>\n",
       "</table>\n",
       "<p>256 rows × 9 columns</p>\n",
       "</div>"
      ],
      "text/plain": [
       "                             Life Expectancy  Sucide Rate     Births  \\\n",
       "Country                                                                \n",
       "Afghanistan                        49.245600     4.835000  46.894867   \n",
       "Africa Eastern and Southern        51.721811    13.965614  42.670056   \n",
       "Africa Western and Central         47.816290     9.227080  44.248727   \n",
       "Albania                            71.781575     7.545000  23.258450   \n",
       "Algeria                            63.571667     4.160000  34.143867   \n",
       "...                                      ...          ...        ...   \n",
       "West Bank and Gaza                 71.634483          NaN  37.470833   \n",
       "World                              64.558577    14.590387  25.627091   \n",
       "Yemen, Rep.                        52.544667     6.930000  46.792167   \n",
       "Zambia                             51.107117    14.895000  45.524683   \n",
       "Zimbabwe                           54.557108    20.000000  39.518650   \n",
       "\n",
       "                             Employment      Urban      Rural      Water  \\\n",
       "Country                                                                    \n",
       "Afghanistan                    0.977241  18.488183  81.511817  18.481513   \n",
       "Africa Eastern and Southern    2.839339  24.764205  75.235795        NaN   \n",
       "Africa Western and Central     1.545341  30.164630  69.835370  19.232976   \n",
       "Albania                        4.591724  40.083033  59.916967  60.703133   \n",
       "Algeria                        6.213448  52.257150  47.742850  73.761476   \n",
       "...                                 ...        ...        ...        ...   \n",
       "West Bank and Gaza             6.123103  72.703233  27.296767  76.265818   \n",
       "World                          3.407743  43.523538  56.476462  66.492867   \n",
       "Yemen, Rep.                    7.583448  21.745917  78.254083        NaN   \n",
       "Zambia                         0.496207  35.504000  64.496000        NaN   \n",
       "Zimbabwe                       0.646207  26.205533  73.794467  31.623855   \n",
       "\n",
       "                             Sanitation           GDP  \n",
       "Country                                                \n",
       "Afghanistan                   34.430811  1.464237e+10  \n",
       "Africa Eastern and Southern   26.758921           NaN  \n",
       "Africa Western and Central    28.036871           NaN  \n",
       "Albania                       94.695037  6.398408e+09  \n",
       "Algeria                       86.198087           NaN  \n",
       "...                                 ...           ...  \n",
       "West Bank and Gaza            93.732859           NaN  \n",
       "World                         66.336188  5.750463e+13  \n",
       "Yemen, Rep.                   49.420565  2.855069e+10  \n",
       "Zambia                        26.952741  1.908821e+10  \n",
       "Zimbabwe                      41.157871  1.144287e+10  \n",
       "\n",
       "[256 rows x 9 columns]"
      ]
     },
     "execution_count": 24,
     "metadata": {},
     "output_type": "execute_result"
    }
   ],
   "source": [
    "world_avs_country = world_data[[\"Country\", \"Life Expectancy\", \"Sucide Rate\", \"Births\", \"Employment\", \"Urban\", \"Rural\", \"Water\", \"Sanitation\", \"GDP\"]].groupby(\"Country\").mean()\n",
    "\n",
    "world_avs_country"
   ]
  },
  {
   "cell_type": "code",
   "execution_count": 25,
   "metadata": {},
   "outputs": [
    {
     "data": {
      "image/png": "[encoded data removed]",
      "text/plain": [
       "<Figure size 1000x1000 with 9 Axes>"
      ]
     },
     "metadata": {},
     "output_type": "display_data"
    }
   ],
   "source": [
    "world_avs_country.hist(figsize=(10,10))\n",
    "plt.show()"
   ]
  },
  {
   "cell_type": "markdown",
   "metadata": {},
   "source": [
    "Remove outliers \n",
    "- Sucide Rate\n",
    "- Births\n",
    "- Employment\n",
    "- GDP"
   ]
  },
  {
   "cell_type": "code",
   "execution_count": 26,
   "metadata": {},
   "outputs": [
    {
     "data": {
      "image/png": "[encoded data removed]",
      "text/plain": [
       "<Figure size 640x480 with 1 Axes>"
      ]
     },
     "metadata": {},
     "output_type": "display_data"
    }
   ],
   "source": [
    "world_avs_country[\"Sucide Rate\"].hist()\n",
    "plt.title(\"Suicide Rates\")\n",
    "plt.show()"
   ]
  },
  {
   "cell_type": "code",
   "execution_count": 27,
   "metadata": {},
   "outputs": [
    {
     "data": {
      "text/plain": [
       "<Axes: xlabel='Sucide Rate'>"
      ]
     },
     "execution_count": 27,
     "metadata": {},
     "output_type": "execute_result"
    },
    {
     "data": {
      "image/png": "[encoded data removed]",
      "text/plain": [
       "<Figure size 640x480 with 1 Axes>"
      ]
     },
     "metadata": {},
     "output_type": "display_data"
    }
   ],
   "source": [
    "sns.boxplot(data=world_avs_country, x=world_avs_country['Sucide Rate'])"
   ]
  },
  {
   "cell_type": "code",
   "execution_count": 28,
   "metadata": {},
   "outputs": [
    {
     "name": "stdout",
     "output_type": "stream",
     "text": [
      "Q1: 7.6425\n",
      "Q3: 19.72\n",
      "IQR: 12.077499999999999\n",
      "Lower Bound: -10.473749999999997\n",
      "Upper Bound: 37.83624999999999\n"
     ]
    }
   ],
   "source": [
    "# Check for missing or NaN values\n",
    "adjusted_suicide = world_avs_country.dropna(subset=[\"Sucide Rate\"])\n",
    "\n",
    "# Calculate quartiles and IQR\n",
    "suicide_q1 = np.percentile(adjusted_suicide[\"Sucide Rate\"], 25, interpolation=\"midpoint\")\n",
    "suicide_q3 = np.percentile(adjusted_suicide[\"Sucide Rate\"], 75, interpolation=\"midpoint\")\n",
    "suicide_iqr = suicide_q3 - suicide_q1\n",
    "\n",
    "# Print quartiles and IQR\n",
    "print(\"Q1:\", suicide_q1)\n",
    "print(\"Q3:\", suicide_q3)\n",
    "print(\"IQR:\", suicide_iqr)\n",
    "\n",
    "# Define the lower and upper bounds for outlier detection\n",
    "lower_bound = suicide_q1 - 1.5 * suicide_iqr\n",
    "upper_bound = suicide_q3 + 1.5 * suicide_iqr\n",
    "\n",
    "# Print boundaries\n",
    "print(\"Lower Bound:\", lower_bound)\n",
    "print(\"Upper Bound:\", upper_bound)\n",
    "\n",
    "# Filter out outliers\n",
    "adjusted_suicide = adjusted_suicide[(adjusted_suicide[\"Sucide Rate\"] >= lower_bound) & (adjusted_suicide[\"Sucide Rate\"] <= upper_bound)]\n",
    "\n",
    "adjusted_suicide.sort_values(by=[\"Sucide Rate\"], inplace=True)"
   ]
  }
 ],
 "metadata": {
  "kernelspec": {
   "display_name": "Python 3",
   "language": "python",
   "name": "python3"
  },
  "language_info": {
   "codemirror_mode": {
    "name": "ipython",
    "version": 3
   },
   "file_extension": ".py",
   "mimetype": "text/x-python",
   "name": "python",
   "nbconvert_exporter": "python",
   "pygments_lexer": "ipython3",
   "version": "3.10.7"
  }
 },
 "nbformat": 4,
 "nbformat_minor": 2
}
